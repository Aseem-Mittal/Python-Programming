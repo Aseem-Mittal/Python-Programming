{
 "cells": [
  {
   "cell_type": "markdown",
   "metadata": {},
   "source": [
    "## Assignment 2"
   ]
  },
  {
   "cell_type": "code",
   "execution_count": null,
   "metadata": {},
   "outputs": [],
   "source": []
  },
  {
   "cell_type": "code",
   "execution_count": 1,
   "metadata": {},
   "outputs": [],
   "source": [
    "x = [1,2,3,4, [10,20,30,40,[100,200,300,400],\"rishabh_\",5+5j], 4000]"
   ]
  },
  {
   "cell_type": "code",
   "execution_count": 2,
   "metadata": {},
   "outputs": [
    {
     "data": {
      "text/plain": [
       "[10, 20]"
      ]
     },
     "execution_count": 2,
     "metadata": {},
     "output_type": "execute_result"
    }
   ],
   "source": [
    "x[4][:2]"
   ]
  },
  {
   "cell_type": "code",
   "execution_count": 3,
   "metadata": {},
   "outputs": [
    {
     "data": {
      "text/plain": [
       "(5+5j)"
      ]
     },
     "execution_count": 3,
     "metadata": {},
     "output_type": "execute_result"
    }
   ],
   "source": [
    "x[4][-1]"
   ]
  },
  {
   "cell_type": "code",
   "execution_count": 4,
   "metadata": {},
   "outputs": [
    {
     "data": {
      "text/plain": [
       "[300, 400]"
      ]
     },
     "execution_count": 4,
     "metadata": {},
     "output_type": "execute_result"
    }
   ],
   "source": [
    "x[4][4][2:]"
   ]
  },
  {
   "cell_type": "code",
   "execution_count": 5,
   "metadata": {},
   "outputs": [
    {
     "data": {
      "text/plain": [
       "[40, [100, 200, 300, 400], 'rishabh_']"
      ]
     },
     "execution_count": 5,
     "metadata": {},
     "output_type": "execute_result"
    }
   ],
   "source": [
    "x[4][3:-1]"
   ]
  },
  {
   "cell_type": "code",
   "execution_count": 25,
   "metadata": {},
   "outputs": [],
   "source": []
  },
  {
   "cell_type": "code",
   "execution_count": 64,
   "metadata": {},
   "outputs": [],
   "source": [
    "def func():\n",
    "    temp = []\n",
    "    for i in range(1,22):\n",
    "        for j in range(i,22):\n",
    "            if (i+j)%2 ==0 and (i+j)<22:\n",
    "                temp.append((i,j))\n",
    "    return temp"
   ]
  },
  {
   "cell_type": "code",
   "execution_count": 65,
   "metadata": {},
   "outputs": [
    {
     "data": {
      "text/plain": [
       "[(1, 1),\n",
       " (1, 3),\n",
       " (1, 5),\n",
       " (1, 7),\n",
       " (1, 9),\n",
       " (1, 11),\n",
       " (1, 13),\n",
       " (1, 15),\n",
       " (1, 17),\n",
       " (1, 19),\n",
       " (2, 2),\n",
       " (2, 4),\n",
       " (2, 6),\n",
       " (2, 8),\n",
       " (2, 10),\n",
       " (2, 12),\n",
       " (2, 14),\n",
       " (2, 16),\n",
       " (2, 18),\n",
       " (3, 3),\n",
       " (3, 5),\n",
       " (3, 7),\n",
       " (3, 9),\n",
       " (3, 11),\n",
       " (3, 13),\n",
       " (3, 15),\n",
       " (3, 17),\n",
       " (4, 4),\n",
       " (4, 6),\n",
       " (4, 8),\n",
       " (4, 10),\n",
       " (4, 12),\n",
       " (4, 14),\n",
       " (4, 16),\n",
       " (5, 5),\n",
       " (5, 7),\n",
       " (5, 9),\n",
       " (5, 11),\n",
       " (5, 13),\n",
       " (5, 15),\n",
       " (6, 6),\n",
       " (6, 8),\n",
       " (6, 10),\n",
       " (6, 12),\n",
       " (6, 14),\n",
       " (7, 7),\n",
       " (7, 9),\n",
       " (7, 11),\n",
       " (7, 13),\n",
       " (8, 8),\n",
       " (8, 10),\n",
       " (8, 12),\n",
       " (9, 9),\n",
       " (9, 11),\n",
       " (10, 10)]"
      ]
     },
     "execution_count": 65,
     "metadata": {},
     "output_type": "execute_result"
    }
   ],
   "source": [
    "func()"
   ]
  },
  {
   "cell_type": "code",
   "execution_count": 86,
   "metadata": {},
   "outputs": [],
   "source": [
    "abc = '@@@#$ASEEMsds11#&*32)'\n",
    "\n",
    "import re\n",
    "s = re.sub(r\"[a-zA-Z0-9]\",\"\",abc)"
   ]
  },
  {
   "cell_type": "code",
   "execution_count": 87,
   "metadata": {},
   "outputs": [],
   "source": [
    "## This means \"substitute every character that is not a number, or a character in the range \n",
    "# 'a to z' or 'A to Z' with an empty string\"."
   ]
  },
  {
   "cell_type": "code",
   "execution_count": 88,
   "metadata": {},
   "outputs": [],
   "source": [
    "abc = {} \n",
    "  \n",
    "for i in s: \n",
    "    if i in abc: \n",
    "        abc[i] += 1\n",
    "    else: \n",
    "        abc[i] = 1"
   ]
  },
  {
   "cell_type": "code",
   "execution_count": 89,
   "metadata": {},
   "outputs": [
    {
     "data": {
      "text/plain": [
       "{'@': 3, '#': 2, '$': 1, '&': 1, '*': 1, ')': 1}"
      ]
     },
     "execution_count": 89,
     "metadata": {},
     "output_type": "execute_result"
    }
   ],
   "source": [
    "abc"
   ]
  },
  {
   "cell_type": "code",
   "execution_count": null,
   "metadata": {},
   "outputs": [],
   "source": []
  },
  {
   "cell_type": "code",
   "execution_count": 90,
   "metadata": {},
   "outputs": [],
   "source": [
    "## 4. Write a program to print a list of numbers which has cube of odd numbers in the range of 1 to 50"
   ]
  },
  {
   "cell_type": "code",
   "execution_count": 142,
   "metadata": {},
   "outputs": [],
   "source": [
    "i=1\n",
    "temp =[]\n",
    "while ((i*i*i) <51) and (i%2!=0):\n",
    "    temp.append(i)\n",
    "    i=i+2"
   ]
  },
  {
   "cell_type": "code",
   "execution_count": 143,
   "metadata": {},
   "outputs": [
    {
     "data": {
      "text/plain": [
       "[1, 3]"
      ]
     },
     "execution_count": 143,
     "metadata": {},
     "output_type": "execute_result"
    }
   ],
   "source": [
    "temp"
   ]
  },
  {
   "cell_type": "code",
   "execution_count": 144,
   "metadata": {},
   "outputs": [],
   "source": [
    "#5. Write a program to print the copy of the list which has all the elements multiplied by 3, \n",
    "#   but it should reflect the result to the original list."
   ]
  },
  {
   "cell_type": "code",
   "execution_count": 145,
   "metadata": {},
   "outputs": [],
   "source": [
    "abc = [1,2,3,4,5]\n",
    "\n",
    "temp =[]\n",
    "for i in abc:\n",
    "    temp.append(i*3)"
   ]
  },
  {
   "cell_type": "code",
   "execution_count": 146,
   "metadata": {},
   "outputs": [
    {
     "data": {
      "text/plain": [
       "[3, 6, 9, 12, 15]"
      ]
     },
     "execution_count": 146,
     "metadata": {},
     "output_type": "execute_result"
    }
   ],
   "source": [
    "temp"
   ]
  },
  {
   "cell_type": "code",
   "execution_count": 147,
   "metadata": {},
   "outputs": [],
   "source": [
    "#6. Write a program to calculate the length of each word in the sentence."
   ]
  },
  {
   "cell_type": "code",
   "execution_count": 169,
   "metadata": {},
   "outputs": [],
   "source": [
    "x = \"Hello world I am learning python\"\n",
    "abc ={}\n",
    "\n",
    "aa = x.split()\n",
    "for i in aa:\n",
    "    abc[i]= len(i) "
   ]
  },
  {
   "cell_type": "code",
   "execution_count": 170,
   "metadata": {},
   "outputs": [
    {
     "data": {
      "text/plain": [
       "{'Hello': 5, 'world': 5, 'I': 1, 'am': 2, 'learning': 8, 'python': 6}"
      ]
     },
     "execution_count": 170,
     "metadata": {},
     "output_type": "execute_result"
    }
   ],
   "source": [
    "abc"
   ]
  },
  {
   "cell_type": "code",
   "execution_count": 180,
   "metadata": {},
   "outputs": [],
   "source": [
    "#7. Write a program to retun True if the list consist of only integer values, and if not then return False"
   ]
  },
  {
   "cell_type": "code",
   "execution_count": 224,
   "metadata": {},
   "outputs": [],
   "source": [
    "abc = [1,2,3,4,5, 'Aseem', 32]\n",
    "\n",
    "def list_integer_or_not(abc):\n",
    "    a = True\n",
    "    for i in abc:\n",
    "        if type(i)==int:\n",
    "            continue\n",
    "        else:\n",
    "            a = False\n",
    "            break\n",
    "    return a\n",
    "        "
   ]
  },
  {
   "cell_type": "code",
   "execution_count": 225,
   "metadata": {},
   "outputs": [
    {
     "data": {
      "text/plain": [
       "False"
      ]
     },
     "execution_count": 225,
     "metadata": {},
     "output_type": "execute_result"
    }
   ],
   "source": [
    "list_integer_or_not(abc)"
   ]
  },
  {
   "cell_type": "code",
   "execution_count": null,
   "metadata": {},
   "outputs": [],
   "source": []
  }
 ],
 "metadata": {
  "kernelspec": {
   "display_name": "Python 3",
   "language": "python",
   "name": "python3"
  },
  "language_info": {
   "codemirror_mode": {
    "name": "ipython",
    "version": 3
   },
   "file_extension": ".py",
   "mimetype": "text/x-python",
   "name": "python",
   "nbconvert_exporter": "python",
   "pygments_lexer": "ipython3",
   "version": "3.6.8"
  }
 },
 "nbformat": 4,
 "nbformat_minor": 2
}
